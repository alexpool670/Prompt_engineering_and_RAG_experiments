{
 "cells": [
  {
   "cell_type": "markdown",
   "id": "776cf1f9-cd22-4d66-8066-5dd113b30a8e",
   "metadata": {},
   "source": [
    "meta-llama/Llama-3.2-1B-Instruct"
   ]
  },
  {
   "cell_type": "code",
   "execution_count": 1,
   "id": "cf35eafe-5094-4e3e-a141-a3943051d730",
   "metadata": {},
   "outputs": [],
   "source": [
    "from transformers import AutoTokenizer, AutoModelForCausalLM\n",
    "import torch"
   ]
  },
  {
   "cell_type": "code",
   "execution_count": 2,
   "id": "51c934d1-70a4-4e42-a282-4a0b85539fa7",
   "metadata": {},
   "outputs": [
    {
     "data": {
      "application/vnd.jupyter.widget-view+json": {
       "model_id": "9cb402ac8114478f8fc9de4797748ca5",
       "version_major": 2,
       "version_minor": 0
      },
      "text/plain": [
       "model.safetensors:  34%|###4      | 849M/2.47G [00:00<?, ?B/s]"
      ]
     },
     "metadata": {},
     "output_type": "display_data"
    },
    {
     "data": {
      "application/vnd.jupyter.widget-view+json": {
       "model_id": "b539639d0d074d27a24397fd7855926b",
       "version_major": 2,
       "version_minor": 0
      },
      "text/plain": [
       "generation_config.json:   0%|          | 0.00/189 [00:00<?, ?B/s]"
      ]
     },
     "metadata": {},
     "output_type": "display_data"
    }
   ],
   "source": [
    "from accelerate import init_empty_weights, load_checkpoint_and_dispatch\n",
    "# Set device to CPU since we don't have a GPU\n",
    "device = torch.device(\"cpu\")\n",
    "\n",
    "# Load tokenizer and model (using LLaMA 7B as an example)\n",
    "model_name = \"meta-llama/Llama-3.2-1B-Instruct\"  # Replace with your chosen model\n",
    "tokenizer = AutoTokenizer.from_pretrained(model_name)\n",
    "# Load the model using accelerate for CPU optimization\n",
    "model = AutoModelForCausalLM.from_pretrained(model_name, device_map=\"auto\", offload_folder=\"offload\").to(device)"
   ]
  },
  {
   "cell_type": "code",
   "execution_count": 4,
   "id": "5d78297e-69c5-43b6-b909-5b4880fb596a",
   "metadata": {},
   "outputs": [],
   "source": [
    "# Example: List of customer questions (can be extended or read from a file)\n",
    "customer_questions = [\n",
    "    \"What are the amenities available at the hotel?\",\n",
    "    \"Does the hotel offer free Wi-Fi?\",\n",
    "    \"Are pets allowed at the hotel?\",\n",
    "    \"What is the check-in and check-out time?\",\n",
    "    \"Is breakfast included in the room rate?\",\n",
    "    \"Are there any family rooms available?\",\n",
    "    \"Is there a swimming pool at the hotel?\",\n",
    "    \"Does the hotel provide airport shuttle services?\",\n",
    "    \"Are there any local attractions nearby?\",\n",
    "    \"What are the payment options at the hotel?\",\n",
    "]\n"
   ]
  },
  {
   "cell_type": "code",
   "execution_count": 5,
   "id": "0e0d162d-f4d5-4b04-aa7c-e4acf0c38e2e",
   "metadata": {},
   "outputs": [],
   "source": [
    "# Function to prepare a prompt\n",
    "def prepare_prompt(questions):\n",
    "    prompt = (\"You are analyzing customer questions about a hotel property. \"\n",
    "              \"Based on these questions, what recommendations can be made to change the  hotel property details page to address customer concerns and enhance user experience\\n\\n\")\n",
    "    prompt += \"\\n\".join(f\"- {q}\" for q in questions)\n",
    "    return prompt\n",
    "\n"
   ]
  },
  {
   "cell_type": "code",
   "execution_count": 6,
   "id": "626f83d8-ac0e-4a8c-a229-b39ef150cd7c",
   "metadata": {},
   "outputs": [],
   "source": [
    "\n",
    "# Ensure the tokenizer has a pad token\n",
    "if tokenizer.pad_token is None:\n",
    "    # Option 1: Use eos_token as pad_token if the tokenizer doesn't have a pad token\n",
    "    tokenizer.pad_token = tokenizer.eos_token\n",
    "\n",
    "    # Option 2: Alternatively, you can add a new [PAD] token\n",
    "    # tokenizer.add_special_tokens({'pad_token': '[PAD]'})\n",
    "\n",
    "def generate_suggestions(prompt):\n",
    "    # Tokenize the input prompt with padding and return the attention mask\n",
    "    inputs = tokenizer(prompt, return_tensors=\"pt\", padding=True, truncation=True).to(device)\n",
    "    \n",
    "    # Ensure the `pad_token_id` is set\n",
    "    pad_token_id = tokenizer.pad_token_id\n",
    "    \n",
    "    # Generate the response using the model\n",
    "    with torch.no_grad():\n",
    "        outputs = model.generate(\n",
    "            inputs['input_ids'],\n",
    "            attention_mask=inputs['attention_mask'],  # Provide the attention mask\n",
    "            max_length=800,  # Increase max length for longer suggestions\n",
    "            temperature=0.7,\n",
    "            pad_token_id=pad_token_id,  # Use the correct pad token ID\n",
    "            num_return_sequences=1\n",
    "        )\n",
    "    \n",
    "    # Decode the model output into human-readable text\n",
    "    suggestions = tokenizer.decode(outputs[0], skip_special_tokens=True)\n",
    "    return suggestions\n",
    "\n",
    "\n"
   ]
  },
  {
   "cell_type": "code",
   "execution_count": 7,
   "id": "0c9bed10-67a1-4fd9-b8b6-bbe197d56e63",
   "metadata": {},
   "outputs": [
    {
     "name": "stdout",
     "output_type": "stream",
     "text": [
      "Prompt:\n",
      " You are analyzing customer questions about a hotel property. Based on these questions, what recommendations can be made to change the  hotel property details page to address customer concerns and enhance user experience\n",
      "\n",
      "- What are the amenities available at the hotel?\n",
      "- Does the hotel offer free Wi-Fi?\n",
      "- Are pets allowed at the hotel?\n",
      "- What is the check-in and check-out time?\n",
      "- Is breakfast included in the room rate?\n"
     ]
    },
    {
     "name": "stderr",
     "output_type": "stream",
     "text": [
      "Starting from v4.46, the `logits` model output will have the same type as the model (except at train time, where it will always be FP32)\n"
     ]
    },
    {
     "name": "stdout",
     "output_type": "stream",
     "text": [
      "Content Improvement Suggestions:\n",
      " You are analyzing customer questions about a hotel property. Based on these questions, what recommendations can be made to change the  hotel property details page to address customer concerns and enhance user experience\n",
      "\n",
      "- What are the amenities available at the hotel?\n",
      "- Does the hotel offer free Wi-Fi?\n",
      "- Are pets allowed at the hotel?\n",
      "- What is the check-in and check-out time?\n",
      "- Is breakfast included in the room rate? \n",
      "- Is the hotel located near a public transportation hub?\n",
      "- Is the hotel's proximity to a major airport easily accessible?\n",
      "- What are the hotel's room rates and packages?\n",
      "- Are there any special promotions or discounts available?\n",
      "\n",
      "Based on the customer questions, here are some potential recommendations to change the hotel property details page:\n",
      "\n",
      "**Amenities and Services**\n",
      "\n",
      "* Add a section highlighting the hotel's amenities, such as the pool, fitness center, and spa.\n",
      "* Include information about any additional services, like concierge or business center.\n",
      "* Consider adding a section for \"What to Expect\" or \"What's Included\" to help customers understand what they can expect from the hotel.\n",
      "\n",
      "**Wi-Fi and Internet**\n",
      "\n",
      "* Add a statement about the hotel's Wi-Fi policy, including any speed limits or requirements for devices.\n",
      "* Provide information about the types of devices supported (e.g., laptops, tablets, smartphones).\n",
      "* Consider adding a section for \"Internet Features\" or \"Wi-Fi Details\" to help customers understand the hotel's internet capabilities.\n",
      "\n",
      "**Pets**\n",
      "\n",
      "* Add a statement about the hotel's pet policy, including any restrictions or requirements.\n",
      "* Include information about the types of rooms available for pets (e.g., suites, rooms).\n",
      "* Consider adding a section for \"Pet Amenities\" or \"Pet-Friendly Features\" to help customers understand what they can expect.\n",
      "\n",
      "**Check-in and Check-out**\n",
      "\n",
      "* Add a statement about the hotel's check-in and check-out policies, including any requirements for advance notice or reservations.\n",
      "* Provide information about the hotel's check-in and check-out times, as well as any early check-out or late check-out options.\n",
      "* Consider adding a section for \"Check-in and Check-out Details\" to help customers plan their stay.\n",
      "\n",
      "**Breakfast**\n",
      "\n",
      "* Add a statement about the hotel's breakfast policy, including any requirements for reservations or advance notice.\n",
      "* Include information about the types of breakfast options (e.g., continental, hot meals).\n",
      "* Consider adding a section for \"Breakfast Details\" to help customers understand what they can expect.\n",
      "\n",
      "**Accessibility and Transportation**\n",
      "\n",
      "* Add a statement about the hotel's accessibility features, including any accessibility accommodations (e.g., elevators, roll-in showers).\n",
      "* Provide information about the hotel's location relative to public transportation hubs, airports, and other attractions.\n",
      "* Consider adding a section for \"Accessibility and Transportation\" to help customers understand the hotel's location and accessibility features.\n",
      "\n",
      "**Room Rates and Packages**\n",
      "\n",
      "* Add a section for \"Room Rates and Packages\" to help customers understand the hotel's pricing and promotions.\n",
      "* Include information about any discounts or promotions available, as well as any package deals or special offers.\n",
      "* Consider adding a section for \"Room Details\" to help customers understand the types of rooms available and what they can expect.\n",
      "\n",
      "**Promotions and Discounts**\n",
      "\n",
      "* Add a statement about the hotel's current promotions and discounts, including any special offers or deals.\n",
      "* Provide information about how to book the hotel's packages or promotions, as well as any requirements for advance notice or reservations.\n",
      "* Consider adding a section for \"Promotions and Discounts\" to help customers understand the hotel's current offers.\n",
      "\n",
      "By addressing these customer questions and concerns, the hotel property details page can be made more informative, helpful, and user-friendly, ultimately enhancing the customer experience and encouraging more bookings.\n"
     ]
    }
   ],
   "source": [
    "small_batch = customer_questions[:5]  # Testing with a small batch\n",
    "prompt = prepare_prompt(small_batch)\n",
    "print(\"Prompt:\\n\", prompt)  # See the input prompt\n",
    "\n",
    "# Generate content improvement suggestions\n",
    "suggestions = generate_suggestions(prompt)\n",
    "print(\"Content Improvement Suggestions:\\n\", suggestions)\n"
   ]
  },
  {
   "cell_type": "code",
   "execution_count": null,
   "id": "04ddaec7-a57f-4644-b4fc-dbf6b6d9c10a",
   "metadata": {},
   "outputs": [],
   "source": []
  },
  {
   "cell_type": "code",
   "execution_count": null,
   "id": "a31f0dbe-4cc9-4d21-9367-27e3d08d8506",
   "metadata": {},
   "outputs": [],
   "source": []
  }
 ],
 "metadata": {
  "kernelspec": {
   "display_name": "Python 3 (ipykernel)",
   "language": "python",
   "name": "python3"
  },
  "language_info": {
   "codemirror_mode": {
    "name": "ipython",
    "version": 3
   },
   "file_extension": ".py",
   "mimetype": "text/x-python",
   "name": "python",
   "nbconvert_exporter": "python",
   "pygments_lexer": "ipython3",
   "version": "3.12.4"
  }
 },
 "nbformat": 4,
 "nbformat_minor": 5
}
