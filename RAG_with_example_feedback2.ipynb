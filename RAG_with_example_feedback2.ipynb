{
  "cells": [
    {
      "cell_type": "code",
      "execution_count": 5,
      "id": "d295b217-69b6-4032-8454-3634e848727e",
      "metadata": {
        "id": "d295b217-69b6-4032-8454-3634e848727e"
      },
      "outputs": [],
      "source": [
        "import faiss\n",
        "import numpy as np\n",
        "from sentence_transformers import SentenceTransformer\n",
        "from transformers import pipeline\n"
      ]
    },
    {
      "cell_type": "code",
      "source": [
        "from google.colab import userdata\n",
        "from huggingface_hub import notebook_login\n",
        "\n",
        "notebook_login()"
      ],
      "metadata": {
        "id": "JL1LkG_F1LKm"
      },
      "id": "JL1LkG_F1LKm",
      "execution_count": 6,
      "outputs": []
    },
    {
      "cell_type": "code",
      "execution_count": 7,
      "id": "fbc04a42-1e0b-4d12-a991-4c3839ee2e8e",
      "metadata": {
        "id": "fbc04a42-1e0b-4d12-a991-4c3839ee2e8e"
      },
      "outputs": [],
      "source": [
        "# Load a pre-trained sentence transformer model for embedding\n",
        "embedding_model = SentenceTransformer('paraphrase-MiniLM-L6-v2')\n",
        "\n",
        "# Example customer feedback (replace with actual feedback from your eCommerce platform)\n",
        "feedback = [\n",
        "    \"The checkout process is too complicated and confusing.\",\n",
        "    \"I had trouble finding product reviews on the mobile app.\",\n",
        "    \"The search function does not return relevant results.\",\n",
        "    \"Shipping options are too limited, and there should be more affordable choices.\",\n",
        "    \"The product pages load too slowly, especially on mobile devices.\",\n",
        "]\n",
        "\n",
        "# Generate embeddings for the feedback\n",
        "feedback_embeddings = embedding_model.encode(feedback)"
      ]
    },
    {
      "cell_type": "code",
      "execution_count": 16,
      "id": "7ecde5ee-9b1c-47c0-a84f-dec9bd003a87",
      "metadata": {
        "colab": {
          "base_uri": "https://localhost:8080/"
        },
        "id": "7ecde5ee-9b1c-47c0-a84f-dec9bd003a87",
        "outputId": "b507f6c4-9102-410e-919f-a310685b501b"
      },
      "outputs": [
        {
          "output_type": "stream",
          "name": "stderr",
          "text": [
            "Device set to use cpu\n"
          ]
        }
      ],
      "source": [
        "access_token = userdata.get('HF_TOKEN')\n",
        "# Create a FAISS index\n",
        "dimension = feedback_embeddings.shape[1]  # The dimension of embeddings\n",
        "index = faiss.IndexFlatL2(dimension)      # L2 distance for similarity search\n",
        "index.add(np.array(feedback_embeddings))  # Add feedback embeddings to the index\n",
        "\n",
        "# Save feedback and index for later use (optional, if needed)\n",
        "np.save(\"feedback.npy\", feedback)\n",
        "faiss.write_index(index, \"feedback_index.faiss\")\n",
        "\n",
        "# Load the text generation model (e.g., GPT-Neo) for generating suggestions\n",
        "generator = pipeline(\"text-generation\", model= \"meta-llama/Llama-3.2-1B-Instruct\", device=-1, token=access_token)  # CPU usage\n"
      ]
    },
    {
      "cell_type": "code",
      "source": [
        "!pip install huggingface hub"
      ],
      "metadata": {
        "colab": {
          "base_uri": "https://localhost:8080/"
        },
        "id": "9S6XKoG810sN",
        "outputId": "68740fb5-5023-401d-aac1-993fc74660c1"
      },
      "id": "9S6XKoG810sN",
      "execution_count": 11,
      "outputs": [
        {
          "output_type": "stream",
          "name": "stdout",
          "text": [
            "Collecting huggingface\n",
            "  Downloading huggingface-0.0.1-py3-none-any.whl.metadata (2.9 kB)\n",
            "Collecting hub\n",
            "  Downloading hub-3.0.1-py3-none-any.whl.metadata (389 bytes)\n",
            "Collecting deeplake (from hub)\n",
            "  Downloading deeplake-4.1.6-cp311-cp311-manylinux2014_x86_64.whl.metadata (19 kB)\n",
            "Requirement already satisfied: numpy in /usr/local/lib/python3.11/dist-packages (from deeplake->hub) (1.26.4)\n",
            "Downloading huggingface-0.0.1-py3-none-any.whl (2.5 kB)\n",
            "Downloading hub-3.0.1-py3-none-any.whl (1.4 kB)\n",
            "Downloading deeplake-4.1.6-cp311-cp311-manylinux2014_x86_64.whl (17.4 MB)\n",
            "\u001b[2K   \u001b[90m━━━━━━━━━━━━━━━━━━━━━━━━━━━━━━━━━━━━━━━━\u001b[0m \u001b[32m17.4/17.4 MB\u001b[0m \u001b[31m33.2 MB/s\u001b[0m eta \u001b[36m0:00:00\u001b[0m\n",
            "\u001b[?25hInstalling collected packages: huggingface, deeplake, hub\n",
            "Successfully installed deeplake-4.1.6 hub-3.0.1 huggingface-0.0.1\n"
          ]
        }
      ]
    },
    {
      "cell_type": "code",
      "source": [],
      "metadata": {
        "id": "I8fyZau21rLJ"
      },
      "id": "I8fyZau21rLJ",
      "execution_count": null,
      "outputs": []
    },
    {
      "cell_type": "code",
      "execution_count": 17,
      "id": "f1b2878f-a340-4150-bbed-12a5fb5b1f8c",
      "metadata": {
        "colab": {
          "base_uri": "https://localhost:8080/"
        },
        "id": "f1b2878f-a340-4150-bbed-12a5fb5b1f8c",
        "outputId": "247b44f7-9cf3-499f-c1e6-59baea6eb3ff"
      },
      "outputs": [
        {
          "name": "stdout",
          "output_type": "stream",
          "text": [
            "Enter the area of improvement you're looking for suggestions on: Checkout and shipping\n"
          ]
        },
        {
          "output_type": "stream",
          "name": "stderr",
          "text": [
            "Truncation was not explicitly activated but `max_length` is provided a specific value, please use `truncation=True` to explicitly truncate examples to max length. Defaulting to 'longest_first' truncation strategy. If you encode pairs of sequences (GLUE-style) with the tokenizer you can select this strategy more precisely by providing a specific strategy to `truncation`.\n",
            "Setting `pad_token_id` to `eos_token_id`:128001 for open-end generation.\n"
          ]
        },
        {
          "output_type": "stream",
          "name": "stdout",
          "text": [
            "Relevant Feedback Retrieved:\n",
            "- The checkout process is too complicated and confusing.\n",
            "- Shipping options are too limited, and there should be more affordable choices.\n",
            "- I had trouble finding product reviews on the mobile app.\n",
            "\n",
            "Suggested Enhancements:\n",
            "Based on the following customer feedback: The checkout process is too complicated and confusing. Shipping options are too limited, and there should be more affordable choices. I had trouble finding product reviews on the mobile app.\n",
            "Suggest improvements or enhancements for the eCommerce website/app to address these issues. \n",
            "\n",
            "**Complicated and Confusing Checkout Process**\n",
            "\n",
            "1. **Simplify the checkout process**: \n",
            "\t* Remove unnecessary fields and reduce the number of steps.\n",
            "\t* Use clear and concise language in the checkout process.\n",
            "\t* Consider adding a \"quick checkout\" option for users who are not ready to purchase immediately.\n",
            "2. **Improve the checkout experience**:\n",
            "\t* Use a more modern and responsive checkout design.\n",
            "\t* Consider adding a \"buy now\" button that allows users to purchase without leaving the website.\n",
            "\t* Use a clear and prominent call-to-action (CTA) to encourage users to complete the purchase.\n",
            "\n",
            "**Limited Shipping Options**\n",
            "\n",
            "1. **Expand shipping options**: \n",
            "\t* Offer more shipping carriers and options (e.g., USPS, UPS, FedEx).\n",
            "\t* Consider offering free shipping on orders above a certain amount.\n",
            "\t* Allow users to select their preferred shipping method and carrier.\n",
            "2. **Improve shipping estimates**:\n",
            "\t* Provide more accurate and up-to-date shipping estimates.\n",
            "\t* Consider using a more advanced shipping algorithm that takes into account factors like package size, weight, and destination.\n",
            "\n",
            "**Affordable Choices**\n",
            "\n",
            "1. **Offer competitive pricing**:\n",
            "\t* Consider using a dynamic pricing system that adjusts prices based on demand and competition.\n",
            "\t* Offer discounts for bulk orders or loyalty programs.\n",
            "\t* Consider using a price match guarantee.\n",
            "2. **Increase product variety**:\n",
            "\t* Expand the product range to include more affordable options.\n",
            "\t* Consider offering bundles or discounts for customers who purchase multiple products.\n",
            "\n",
            "**Mobile App Improvements**\n",
            "\n",
            "1. **Simplify the mobile app**:\n",
            "\t* Reduce the number of fields and steps in the mobile app.\n",
            "\t* Use clear and concise language in the app.\n",
            "\t* Consider adding a \"quick checkout\" option for users who are not ready to purchase immediately.\n",
            "2. **Improve mobile app performance**:\n",
            "\t* Use a more modern and responsive design.\n",
            "\t* Consider using a more advanced mobile app platform (e.g., React Native, Flutter).\n",
            "\t* Optimize the app for mobile devices to ensure a smooth user experience.\n",
            "\n",
            "**Additional Suggestions**\n",
            "\n",
            "1. **Use a customer feedback system**: Implement a\n"
          ]
        }
      ],
      "source": [
        "\n",
        "# Utility function to retrieve relevant feedback\n",
        "def retrieve_feedback(query, top_k=3):\n",
        "    query_embedding = embedding_model.encode([query])\n",
        "    distances, indices = index.search(np.array(query_embedding), top_k)\n",
        "    return [feedback[idx] for idx in indices[0]]\n",
        "\n",
        "# Main function to provide suggestions based on feedback\n",
        "def suggest_enhancements(query):\n",
        "    # Step 1: Retrieve relevant feedback based on the query\n",
        "    retrieved_feedback = retrieve_feedback(query)\n",
        "    print(\"Relevant Feedback Retrieved:\")\n",
        "    for fdbk in retrieved_feedback:\n",
        "        print(f\"- {fdbk}\")\n",
        "\n",
        "    # Step 2: Prepare the prompt for the LLM to generate suggestions\n",
        "    context = \" \".join(retrieved_feedback)\n",
        "    prompt = (\n",
        "        f\"Based on the following customer feedback: {context}\\n\"\n",
        "        \"Suggest improvements or enhancements for the eCommerce website/app to address these issues.\"\n",
        "    )\n",
        "\n",
        "    # Step 3: Generate actionable suggestions using the LLM\n",
        "    response = generator(prompt, max_length=500)[0]['generated_text']\n",
        "\n",
        "    # Print the generated response\n",
        "    print(\"\\nSuggested Enhancements:\")\n",
        "    print(response)\n",
        "\n",
        "# Example usage\n",
        "if __name__ == '__main__':\n",
        "    # Enter a query to start the RAG system (e.g., \"improve checkout experience\")\n",
        "    query = input(\"Enter the area of improvement you're looking for suggestions on: \")\n",
        "    suggest_enhancements(query)\n"
      ]
    },
    {
      "cell_type": "markdown",
      "id": "1791512a-9bd3-4a55-838e-8eee281d2aa9",
      "metadata": {
        "id": "1791512a-9bd3-4a55-838e-8eee281d2aa9"
      },
      "source": [
        "Relevant Feedback Retrieved:\n",
        "- I had trouble finding product reviews on the mobile app.\n",
        "- Shipping options are too limited, and there should be more affordable choices.\n",
        "- The checkout process is too complicated and confusing.\n",
        "\n",
        "Suggested Enhancements:\n",
        "Based on the following customer feedback: I had trouble finding product reviews on the mobile app. Shipping options are too limited, and there should be more affordable choices. The checkout process is too complicated and confusing.\n",
        "Suggest improvements or enhancements for the eCommerce website/app to address these issues. Here are some possible solutions:\n",
        "\n",
        "**Improvement 1: Simplify product reviews and search functionality**\n",
        "\n",
        "* Implement a robust search bar that allows customers to find specific products quickly.\n",
        "* Introduce a filtering system to categorize products by price, brand, and rating, making it easier for customers to find what they're looking for.\n",
        "* Consider adding a \"recommended products\" section that suggests similar products based on customer reviews and ratings.\n",
        "\n",
        "**Improvement 2: Expand shipping options and pricing**\n",
        "\n",
        "* Offer more affordable shipping options, such as standard or expedited shipping, to cater to a wider range of customers.\n",
        "* Introduce a price comparison feature that allows customers to compare prices across different sellers and shipping options.\n",
        "* Consider implementing a \"buy now\" or \"order now\" button that automatically applies the chosen shipping option and price.\n",
        "\n",
        "**Improvement 3: Streamline checkout process**\n",
        "\n",
        "* Simplify the checkout process by removing unnecessary steps, such as requiring customers to create an account or enter their email address.\n",
        "* Introduce a \"quick checkout\" option that allows customers to proceed with their purchase without entering their payment information.\n",
        "* Consider implementing a \"save for later\" feature that allows customers to save their cart and pick it up later.\n",
        "\n",
        "**Additional suggestions**\n",
        "\n",
        "* Implement a \"customer reviews\" section that showcases customer feedback and ratings for each product.\n",
        "* Consider adding a \"returns and refunds\" section that provides clear instructions and FAQs for customers.\n",
        "* Introduce a \"contact support\" feature that allows customers to reach out to the company's customer support team for assistance.\n",
        "\n",
        "By addressing these issues, the eCommerce website/app can improve its user experience, increase customer satisfaction, and drive more sales.\n",
        "\n"
      ]
    },
    {
      "cell_type": "code",
      "execution_count": 13,
      "id": "0724cc98-fa66-4557-851f-2bd5fc14a1cf",
      "metadata": {
        "colab": {
          "base_uri": "https://localhost:8080/",
          "height": 37,
          "referenced_widgets": [
            "aaf56025f35c4de181f5e2b4a025c7be",
            "c1b832ebaccc42008e9857cf7e6fba43",
            "9e534d9db3f84a2c9faec3897fe21814",
            "b29b9cacd83e459d9a203d27afcdb991",
            "b3a157372ff54fcaa87a80d1804dd3aa",
            "bbf8d22cabd3403586d52d8c3dd0a006",
            "68e3eb41b5a5454386974a8146097eed",
            "7efb56cfada248acb98486ddddf9609b",
            "518716cc15b54fa9965b181c551c684c",
            "6da29cd33bf84ee8a434883d2517f5c4",
            "6d9f0d6941f2492eb660041d6ae99a04",
            "940ed7a6e9b54d27a7137f0c1e87996f",
            "6e492b6853a542d78d022e074fe36d7d",
            "2bc09d5c5b384dc6b8b53977256d70ac",
            "54b8cb6847914159b96bacfa24d0d77e",
            "7d57204a12ac46a1a54efb915382583e",
            "87cd8c4f7b9d4cf9a4f925c573edac37",
            "fe18035c4f2942ebb832b2aa693008d0",
            "c5706f30f9b84141a9a9fe95e3aeabb7",
            "21041525ae9c4c34952e3ec9be6c32d8"
          ]
        },
        "id": "0724cc98-fa66-4557-851f-2bd5fc14a1cf",
        "outputId": "92ab3d1b-7a69-4359-dc39-dc302b175bde"
      },
      "outputs": [
        {
          "output_type": "display_data",
          "data": {
            "text/plain": [
              "VBox(children=(HTML(value='<center> <img\\nsrc=https://huggingface.co/front/assets/huggingface_logo-noborder.sv…"
            ],
            "application/vnd.jupyter.widget-view+json": {
              "version_major": 2,
              "version_minor": 0,
              "model_id": "aaf56025f35c4de181f5e2b4a025c7be"
            }
          },
          "metadata": {}
        }
      ],
      "source": [
        "from huggingface_hub import notebook_login\n",
        "\n",
        "notebook_login()"
      ]
    },
    {
      "cell_type": "code",
      "source": [],
      "metadata": {
        "id": "fWmia6NF3Sue"
      },
      "id": "fWmia6NF3Sue",
      "execution_count": null,
      "outputs": []
    }
  ],
  "metadata": {
    "kernelspec": {
      "display_name": "Python 3 (ipykernel)",
      "language": "python",
      "name": "python3"
    },
    "language_info": {
      "codemirror_mode": {
        "name": "ipython",
        "version": 3
      },
      "file_extension": ".py",
      "mimetype": "text/x-python",
      "name": "python",
      "nbconvert_exporter": "python",
      "pygments_lexer": "ipython3",
      "version": "3.12.4"
    },
    "colab": {
      "provenance": []
    },
    "widgets": {
      "application/vnd.jupyter.widget-state+json": {
        "aaf56025f35c4de181f5e2b4a025c7be": {
          "model_module": "@jupyter-widgets/controls",
          "model_name": "VBoxModel",
          "model_module_version": "1.5.0",
          "state": {
            "_dom_classes": [],
            "_model_module": "@jupyter-widgets/controls",
            "_model_module_version": "1.5.0",
            "_model_name": "VBoxModel",
            "_view_count": null,
            "_view_module": "@jupyter-widgets/controls",
            "_view_module_version": "1.5.0",
            "_view_name": "VBoxView",
            "box_style": "",
            "children": [],
            "layout": "IPY_MODEL_68e3eb41b5a5454386974a8146097eed"
          }
        },
        "c1b832ebaccc42008e9857cf7e6fba43": {
          "model_module": "@jupyter-widgets/controls",
          "model_name": "HTMLModel",
          "model_module_version": "1.5.0",
          "state": {
            "_dom_classes": [],
            "_model_module": "@jupyter-widgets/controls",
            "_model_module_version": "1.5.0",
            "_model_name": "HTMLModel",
            "_view_count": null,
            "_view_module": "@jupyter-widgets/controls",
            "_view_module_version": "1.5.0",
            "_view_name": "HTMLView",
            "description": "",
            "description_tooltip": null,
            "layout": "IPY_MODEL_7efb56cfada248acb98486ddddf9609b",
            "placeholder": "​",
            "style": "IPY_MODEL_518716cc15b54fa9965b181c551c684c",
            "value": "<center> <img\nsrc=https://huggingface.co/front/assets/huggingface_logo-noborder.svg\nalt='Hugging Face'> <br> Copy a token from <a\nhref=\"https://huggingface.co/settings/tokens\" target=\"_blank\">your Hugging Face\ntokens page</a> and paste it below. <br> Immediately click login after copying\nyour token or it might be stored in plain text in this notebook file. </center>"
          }
        },
        "9e534d9db3f84a2c9faec3897fe21814": {
          "model_module": "@jupyter-widgets/controls",
          "model_name": "PasswordModel",
          "model_module_version": "1.5.0",
          "state": {
            "_dom_classes": [],
            "_model_module": "@jupyter-widgets/controls",
            "_model_module_version": "1.5.0",
            "_model_name": "PasswordModel",
            "_view_count": null,
            "_view_module": "@jupyter-widgets/controls",
            "_view_module_version": "1.5.0",
            "_view_name": "PasswordView",
            "continuous_update": true,
            "description": "Token:",
            "description_tooltip": null,
            "disabled": false,
            "layout": "IPY_MODEL_6da29cd33bf84ee8a434883d2517f5c4",
            "placeholder": "​",
            "style": "IPY_MODEL_6d9f0d6941f2492eb660041d6ae99a04",
            "value": ""
          }
        },
        "b29b9cacd83e459d9a203d27afcdb991": {
          "model_module": "@jupyter-widgets/controls",
          "model_name": "CheckboxModel",
          "model_module_version": "1.5.0",
          "state": {
            "_dom_classes": [],
            "_model_module": "@jupyter-widgets/controls",
            "_model_module_version": "1.5.0",
            "_model_name": "CheckboxModel",
            "_view_count": null,
            "_view_module": "@jupyter-widgets/controls",
            "_view_module_version": "1.5.0",
            "_view_name": "CheckboxView",
            "description": "Add token as git credential?",
            "description_tooltip": null,
            "disabled": false,
            "indent": true,
            "layout": "IPY_MODEL_940ed7a6e9b54d27a7137f0c1e87996f",
            "style": "IPY_MODEL_6e492b6853a542d78d022e074fe36d7d",
            "value": false
          }
        },
        "b3a157372ff54fcaa87a80d1804dd3aa": {
          "model_module": "@jupyter-widgets/controls",
          "model_name": "ButtonModel",
          "model_module_version": "1.5.0",
          "state": {
            "_dom_classes": [],
            "_model_module": "@jupyter-widgets/controls",
            "_model_module_version": "1.5.0",
            "_model_name": "ButtonModel",
            "_view_count": null,
            "_view_module": "@jupyter-widgets/controls",
            "_view_module_version": "1.5.0",
            "_view_name": "ButtonView",
            "button_style": "",
            "description": "Login",
            "disabled": false,
            "icon": "",
            "layout": "IPY_MODEL_2bc09d5c5b384dc6b8b53977256d70ac",
            "style": "IPY_MODEL_54b8cb6847914159b96bacfa24d0d77e",
            "tooltip": ""
          }
        },
        "bbf8d22cabd3403586d52d8c3dd0a006": {
          "model_module": "@jupyter-widgets/controls",
          "model_name": "HTMLModel",
          "model_module_version": "1.5.0",
          "state": {
            "_dom_classes": [],
            "_model_module": "@jupyter-widgets/controls",
            "_model_module_version": "1.5.0",
            "_model_name": "HTMLModel",
            "_view_count": null,
            "_view_module": "@jupyter-widgets/controls",
            "_view_module_version": "1.5.0",
            "_view_name": "HTMLView",
            "description": "",
            "description_tooltip": null,
            "layout": "IPY_MODEL_7d57204a12ac46a1a54efb915382583e",
            "placeholder": "​",
            "style": "IPY_MODEL_87cd8c4f7b9d4cf9a4f925c573edac37",
            "value": "\n<b>Pro Tip:</b> If you don't already have one, you can create a dedicated\n'notebooks' token with 'write' access, that you can then easily reuse for all\nnotebooks. </center>"
          }
        },
        "68e3eb41b5a5454386974a8146097eed": {
          "model_module": "@jupyter-widgets/base",
          "model_name": "LayoutModel",
          "model_module_version": "1.2.0",
          "state": {
            "_model_module": "@jupyter-widgets/base",
            "_model_module_version": "1.2.0",
            "_model_name": "LayoutModel",
            "_view_count": null,
            "_view_module": "@jupyter-widgets/base",
            "_view_module_version": "1.2.0",
            "_view_name": "LayoutView",
            "align_content": null,
            "align_items": "center",
            "align_self": null,
            "border": null,
            "bottom": null,
            "display": "flex",
            "flex": null,
            "flex_flow": "column",
            "grid_area": null,
            "grid_auto_columns": null,
            "grid_auto_flow": null,
            "grid_auto_rows": null,
            "grid_column": null,
            "grid_gap": null,
            "grid_row": null,
            "grid_template_areas": null,
            "grid_template_columns": null,
            "grid_template_rows": null,
            "height": null,
            "justify_content": null,
            "justify_items": null,
            "left": null,
            "margin": null,
            "max_height": null,
            "max_width": null,
            "min_height": null,
            "min_width": null,
            "object_fit": null,
            "object_position": null,
            "order": null,
            "overflow": null,
            "overflow_x": null,
            "overflow_y": null,
            "padding": null,
            "right": null,
            "top": null,
            "visibility": null,
            "width": "50%"
          }
        },
        "7efb56cfada248acb98486ddddf9609b": {
          "model_module": "@jupyter-widgets/base",
          "model_name": "LayoutModel",
          "model_module_version": "1.2.0",
          "state": {
            "_model_module": "@jupyter-widgets/base",
            "_model_module_version": "1.2.0",
            "_model_name": "LayoutModel",
            "_view_count": null,
            "_view_module": "@jupyter-widgets/base",
            "_view_module_version": "1.2.0",
            "_view_name": "LayoutView",
            "align_content": null,
            "align_items": null,
            "align_self": null,
            "border": null,
            "bottom": null,
            "display": null,
            "flex": null,
            "flex_flow": null,
            "grid_area": null,
            "grid_auto_columns": null,
            "grid_auto_flow": null,
            "grid_auto_rows": null,
            "grid_column": null,
            "grid_gap": null,
            "grid_row": null,
            "grid_template_areas": null,
            "grid_template_columns": null,
            "grid_template_rows": null,
            "height": null,
            "justify_content": null,
            "justify_items": null,
            "left": null,
            "margin": null,
            "max_height": null,
            "max_width": null,
            "min_height": null,
            "min_width": null,
            "object_fit": null,
            "object_position": null,
            "order": null,
            "overflow": null,
            "overflow_x": null,
            "overflow_y": null,
            "padding": null,
            "right": null,
            "top": null,
            "visibility": null,
            "width": null
          }
        },
        "518716cc15b54fa9965b181c551c684c": {
          "model_module": "@jupyter-widgets/controls",
          "model_name": "DescriptionStyleModel",
          "model_module_version": "1.5.0",
          "state": {
            "_model_module": "@jupyter-widgets/controls",
            "_model_module_version": "1.5.0",
            "_model_name": "DescriptionStyleModel",
            "_view_count": null,
            "_view_module": "@jupyter-widgets/base",
            "_view_module_version": "1.2.0",
            "_view_name": "StyleView",
            "description_width": ""
          }
        },
        "6da29cd33bf84ee8a434883d2517f5c4": {
          "model_module": "@jupyter-widgets/base",
          "model_name": "LayoutModel",
          "model_module_version": "1.2.0",
          "state": {
            "_model_module": "@jupyter-widgets/base",
            "_model_module_version": "1.2.0",
            "_model_name": "LayoutModel",
            "_view_count": null,
            "_view_module": "@jupyter-widgets/base",
            "_view_module_version": "1.2.0",
            "_view_name": "LayoutView",
            "align_content": null,
            "align_items": null,
            "align_self": null,
            "border": null,
            "bottom": null,
            "display": null,
            "flex": null,
            "flex_flow": null,
            "grid_area": null,
            "grid_auto_columns": null,
            "grid_auto_flow": null,
            "grid_auto_rows": null,
            "grid_column": null,
            "grid_gap": null,
            "grid_row": null,
            "grid_template_areas": null,
            "grid_template_columns": null,
            "grid_template_rows": null,
            "height": null,
            "justify_content": null,
            "justify_items": null,
            "left": null,
            "margin": null,
            "max_height": null,
            "max_width": null,
            "min_height": null,
            "min_width": null,
            "object_fit": null,
            "object_position": null,
            "order": null,
            "overflow": null,
            "overflow_x": null,
            "overflow_y": null,
            "padding": null,
            "right": null,
            "top": null,
            "visibility": null,
            "width": null
          }
        },
        "6d9f0d6941f2492eb660041d6ae99a04": {
          "model_module": "@jupyter-widgets/controls",
          "model_name": "DescriptionStyleModel",
          "model_module_version": "1.5.0",
          "state": {
            "_model_module": "@jupyter-widgets/controls",
            "_model_module_version": "1.5.0",
            "_model_name": "DescriptionStyleModel",
            "_view_count": null,
            "_view_module": "@jupyter-widgets/base",
            "_view_module_version": "1.2.0",
            "_view_name": "StyleView",
            "description_width": ""
          }
        },
        "940ed7a6e9b54d27a7137f0c1e87996f": {
          "model_module": "@jupyter-widgets/base",
          "model_name": "LayoutModel",
          "model_module_version": "1.2.0",
          "state": {
            "_model_module": "@jupyter-widgets/base",
            "_model_module_version": "1.2.0",
            "_model_name": "LayoutModel",
            "_view_count": null,
            "_view_module": "@jupyter-widgets/base",
            "_view_module_version": "1.2.0",
            "_view_name": "LayoutView",
            "align_content": null,
            "align_items": null,
            "align_self": null,
            "border": null,
            "bottom": null,
            "display": null,
            "flex": null,
            "flex_flow": null,
            "grid_area": null,
            "grid_auto_columns": null,
            "grid_auto_flow": null,
            "grid_auto_rows": null,
            "grid_column": null,
            "grid_gap": null,
            "grid_row": null,
            "grid_template_areas": null,
            "grid_template_columns": null,
            "grid_template_rows": null,
            "height": null,
            "justify_content": null,
            "justify_items": null,
            "left": null,
            "margin": null,
            "max_height": null,
            "max_width": null,
            "min_height": null,
            "min_width": null,
            "object_fit": null,
            "object_position": null,
            "order": null,
            "overflow": null,
            "overflow_x": null,
            "overflow_y": null,
            "padding": null,
            "right": null,
            "top": null,
            "visibility": null,
            "width": null
          }
        },
        "6e492b6853a542d78d022e074fe36d7d": {
          "model_module": "@jupyter-widgets/controls",
          "model_name": "DescriptionStyleModel",
          "model_module_version": "1.5.0",
          "state": {
            "_model_module": "@jupyter-widgets/controls",
            "_model_module_version": "1.5.0",
            "_model_name": "DescriptionStyleModel",
            "_view_count": null,
            "_view_module": "@jupyter-widgets/base",
            "_view_module_version": "1.2.0",
            "_view_name": "StyleView",
            "description_width": ""
          }
        },
        "2bc09d5c5b384dc6b8b53977256d70ac": {
          "model_module": "@jupyter-widgets/base",
          "model_name": "LayoutModel",
          "model_module_version": "1.2.0",
          "state": {
            "_model_module": "@jupyter-widgets/base",
            "_model_module_version": "1.2.0",
            "_model_name": "LayoutModel",
            "_view_count": null,
            "_view_module": "@jupyter-widgets/base",
            "_view_module_version": "1.2.0",
            "_view_name": "LayoutView",
            "align_content": null,
            "align_items": null,
            "align_self": null,
            "border": null,
            "bottom": null,
            "display": null,
            "flex": null,
            "flex_flow": null,
            "grid_area": null,
            "grid_auto_columns": null,
            "grid_auto_flow": null,
            "grid_auto_rows": null,
            "grid_column": null,
            "grid_gap": null,
            "grid_row": null,
            "grid_template_areas": null,
            "grid_template_columns": null,
            "grid_template_rows": null,
            "height": null,
            "justify_content": null,
            "justify_items": null,
            "left": null,
            "margin": null,
            "max_height": null,
            "max_width": null,
            "min_height": null,
            "min_width": null,
            "object_fit": null,
            "object_position": null,
            "order": null,
            "overflow": null,
            "overflow_x": null,
            "overflow_y": null,
            "padding": null,
            "right": null,
            "top": null,
            "visibility": null,
            "width": null
          }
        },
        "54b8cb6847914159b96bacfa24d0d77e": {
          "model_module": "@jupyter-widgets/controls",
          "model_name": "ButtonStyleModel",
          "model_module_version": "1.5.0",
          "state": {
            "_model_module": "@jupyter-widgets/controls",
            "_model_module_version": "1.5.0",
            "_model_name": "ButtonStyleModel",
            "_view_count": null,
            "_view_module": "@jupyter-widgets/base",
            "_view_module_version": "1.2.0",
            "_view_name": "StyleView",
            "button_color": null,
            "font_weight": ""
          }
        },
        "7d57204a12ac46a1a54efb915382583e": {
          "model_module": "@jupyter-widgets/base",
          "model_name": "LayoutModel",
          "model_module_version": "1.2.0",
          "state": {
            "_model_module": "@jupyter-widgets/base",
            "_model_module_version": "1.2.0",
            "_model_name": "LayoutModel",
            "_view_count": null,
            "_view_module": "@jupyter-widgets/base",
            "_view_module_version": "1.2.0",
            "_view_name": "LayoutView",
            "align_content": null,
            "align_items": null,
            "align_self": null,
            "border": null,
            "bottom": null,
            "display": null,
            "flex": null,
            "flex_flow": null,
            "grid_area": null,
            "grid_auto_columns": null,
            "grid_auto_flow": null,
            "grid_auto_rows": null,
            "grid_column": null,
            "grid_gap": null,
            "grid_row": null,
            "grid_template_areas": null,
            "grid_template_columns": null,
            "grid_template_rows": null,
            "height": null,
            "justify_content": null,
            "justify_items": null,
            "left": null,
            "margin": null,
            "max_height": null,
            "max_width": null,
            "min_height": null,
            "min_width": null,
            "object_fit": null,
            "object_position": null,
            "order": null,
            "overflow": null,
            "overflow_x": null,
            "overflow_y": null,
            "padding": null,
            "right": null,
            "top": null,
            "visibility": null,
            "width": null
          }
        },
        "87cd8c4f7b9d4cf9a4f925c573edac37": {
          "model_module": "@jupyter-widgets/controls",
          "model_name": "DescriptionStyleModel",
          "model_module_version": "1.5.0",
          "state": {
            "_model_module": "@jupyter-widgets/controls",
            "_model_module_version": "1.5.0",
            "_model_name": "DescriptionStyleModel",
            "_view_count": null,
            "_view_module": "@jupyter-widgets/base",
            "_view_module_version": "1.2.0",
            "_view_name": "StyleView",
            "description_width": ""
          }
        },
        "fe18035c4f2942ebb832b2aa693008d0": {
          "model_module": "@jupyter-widgets/controls",
          "model_name": "LabelModel",
          "model_module_version": "1.5.0",
          "state": {
            "_dom_classes": [],
            "_model_module": "@jupyter-widgets/controls",
            "_model_module_version": "1.5.0",
            "_model_name": "LabelModel",
            "_view_count": null,
            "_view_module": "@jupyter-widgets/controls",
            "_view_module_version": "1.5.0",
            "_view_name": "LabelView",
            "description": "",
            "description_tooltip": null,
            "layout": "IPY_MODEL_c5706f30f9b84141a9a9fe95e3aeabb7",
            "placeholder": "​",
            "style": "IPY_MODEL_21041525ae9c4c34952e3ec9be6c32d8",
            "value": "Connecting..."
          }
        },
        "c5706f30f9b84141a9a9fe95e3aeabb7": {
          "model_module": "@jupyter-widgets/base",
          "model_name": "LayoutModel",
          "model_module_version": "1.2.0",
          "state": {
            "_model_module": "@jupyter-widgets/base",
            "_model_module_version": "1.2.0",
            "_model_name": "LayoutModel",
            "_view_count": null,
            "_view_module": "@jupyter-widgets/base",
            "_view_module_version": "1.2.0",
            "_view_name": "LayoutView",
            "align_content": null,
            "align_items": null,
            "align_self": null,
            "border": null,
            "bottom": null,
            "display": null,
            "flex": null,
            "flex_flow": null,
            "grid_area": null,
            "grid_auto_columns": null,
            "grid_auto_flow": null,
            "grid_auto_rows": null,
            "grid_column": null,
            "grid_gap": null,
            "grid_row": null,
            "grid_template_areas": null,
            "grid_template_columns": null,
            "grid_template_rows": null,
            "height": null,
            "justify_content": null,
            "justify_items": null,
            "left": null,
            "margin": null,
            "max_height": null,
            "max_width": null,
            "min_height": null,
            "min_width": null,
            "object_fit": null,
            "object_position": null,
            "order": null,
            "overflow": null,
            "overflow_x": null,
            "overflow_y": null,
            "padding": null,
            "right": null,
            "top": null,
            "visibility": null,
            "width": null
          }
        },
        "21041525ae9c4c34952e3ec9be6c32d8": {
          "model_module": "@jupyter-widgets/controls",
          "model_name": "DescriptionStyleModel",
          "model_module_version": "1.5.0",
          "state": {
            "_model_module": "@jupyter-widgets/controls",
            "_model_module_version": "1.5.0",
            "_model_name": "DescriptionStyleModel",
            "_view_count": null,
            "_view_module": "@jupyter-widgets/base",
            "_view_module_version": "1.2.0",
            "_view_name": "StyleView",
            "description_width": ""
          }
        }
      }
    }
  },
  "nbformat": 4,
  "nbformat_minor": 5
}